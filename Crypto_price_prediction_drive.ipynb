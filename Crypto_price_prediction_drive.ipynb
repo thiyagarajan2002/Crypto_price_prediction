{
  "nbformat": 4,
  "nbformat_minor": 0,
  "metadata": {
    "colab": {
      "name": "Crypto_price_prediction_drive.ipynb",
      "provenance": [],
      "authorship_tag": "ABX9TyNr904AdXHfe4icq7NatXPj",
      "include_colab_link": true
    },
    "kernelspec": {
      "name": "python3",
      "display_name": "Python 3"
    },
    "language_info": {
      "name": "python"
    }
  },
  "cells": [
    {
      "cell_type": "markdown",
      "metadata": {
        "id": "view-in-github",
        "colab_type": "text"
      },
      "source": [
        "<a href=\"https://colab.research.google.com/github/thiyagarajan2002/Crypto_price_prediction/blob/main/Crypto_price_prediction_drive.ipynb\" target=\"_parent\"><img src=\"https://colab.research.google.com/assets/colab-badge.svg\" alt=\"Open In Colab\"/></a>"
      ]
    },
    {
      "cell_type": "code",
      "metadata": {
        "id": "R9IzcQs9rsnu"
      },
      "source": [
        "import numpy as np \n",
        "import pandas as pd\n",
        "import matplotlib.pyplot as plt\n",
        "import seaborn as sns\n",
        "from sklearn.linear_model import LinearRegression\n",
        "from sklearn.model_selection import train_test_split"
      ],
      "execution_count": null,
      "outputs": []
    },
    {
      "cell_type": "code",
      "metadata": {
        "colab": {
          "base_uri": "https://localhost:8080/",
          "height": 419
        },
        "id": "4LwgOlkurwGU",
        "outputId": "fe37162f-b854-4198-f86d-8a6fc9dd7192"
      },
      "source": [
        "df=pd.read_csv('dataset.csv')\n",
        "df"
      ],
      "execution_count": null,
      "outputs": [
        {
          "output_type": "execute_result",
          "data": {
            "text/html": [
              "<div>\n",
              "<style scoped>\n",
              "    .dataframe tbody tr th:only-of-type {\n",
              "        vertical-align: middle;\n",
              "    }\n",
              "\n",
              "    .dataframe tbody tr th {\n",
              "        vertical-align: top;\n",
              "    }\n",
              "\n",
              "    .dataframe thead th {\n",
              "        text-align: right;\n",
              "    }\n",
              "</style>\n",
              "<table border=\"1\" class=\"dataframe\">\n",
              "  <thead>\n",
              "    <tr style=\"text-align: right;\">\n",
              "      <th></th>\n",
              "      <th>Unix Timestamp</th>\n",
              "      <th>Date</th>\n",
              "      <th>Symbol</th>\n",
              "      <th>Open</th>\n",
              "      <th>High</th>\n",
              "      <th>Low</th>\n",
              "      <th>Close</th>\n",
              "      <th>Volume</th>\n",
              "    </tr>\n",
              "  </thead>\n",
              "  <tbody>\n",
              "    <tr>\n",
              "      <th>0</th>\n",
              "      <td>1586995200000</td>\n",
              "      <td>2020-04-16 00:00:00</td>\n",
              "      <td>ETHUSD</td>\n",
              "      <td>152.94</td>\n",
              "      <td>152.94</td>\n",
              "      <td>150.39</td>\n",
              "      <td>150.39</td>\n",
              "      <td>650.188125</td>\n",
              "    </tr>\n",
              "    <tr>\n",
              "      <th>1</th>\n",
              "      <td>1586991600000</td>\n",
              "      <td>2020-04-15 23:00:00</td>\n",
              "      <td>ETHUSD</td>\n",
              "      <td>155.81</td>\n",
              "      <td>155.81</td>\n",
              "      <td>151.39</td>\n",
              "      <td>152.94</td>\n",
              "      <td>4277.567299</td>\n",
              "    </tr>\n",
              "    <tr>\n",
              "      <th>2</th>\n",
              "      <td>1586988000000</td>\n",
              "      <td>2020-04-15 22:00:00</td>\n",
              "      <td>ETHUSD</td>\n",
              "      <td>157.18</td>\n",
              "      <td>157.30</td>\n",
              "      <td>155.32</td>\n",
              "      <td>155.81</td>\n",
              "      <td>106.337279</td>\n",
              "    </tr>\n",
              "    <tr>\n",
              "      <th>3</th>\n",
              "      <td>1586984400000</td>\n",
              "      <td>2020-04-15 21:00:00</td>\n",
              "      <td>ETHUSD</td>\n",
              "      <td>158.04</td>\n",
              "      <td>158.31</td>\n",
              "      <td>157.16</td>\n",
              "      <td>157.18</td>\n",
              "      <td>55.244131</td>\n",
              "    </tr>\n",
              "    <tr>\n",
              "      <th>4</th>\n",
              "      <td>1586980800000</td>\n",
              "      <td>2020-04-15 20:00:00</td>\n",
              "      <td>ETHUSD</td>\n",
              "      <td>157.10</td>\n",
              "      <td>158.10</td>\n",
              "      <td>156.87</td>\n",
              "      <td>158.04</td>\n",
              "      <td>144.262622</td>\n",
              "    </tr>\n",
              "    <tr>\n",
              "      <th>...</th>\n",
              "      <td>...</td>\n",
              "      <td>...</td>\n",
              "      <td>...</td>\n",
              "      <td>...</td>\n",
              "      <td>...</td>\n",
              "      <td>...</td>\n",
              "      <td>...</td>\n",
              "      <td>...</td>\n",
              "    </tr>\n",
              "    <tr>\n",
              "      <th>34492</th>\n",
              "      <td>1462813200</td>\n",
              "      <td>2016-05-09 17:00:00</td>\n",
              "      <td>ETHUSD</td>\n",
              "      <td>9.83</td>\n",
              "      <td>9.83</td>\n",
              "      <td>9.48</td>\n",
              "      <td>9.49</td>\n",
              "      <td>329.553213</td>\n",
              "    </tr>\n",
              "    <tr>\n",
              "      <th>34493</th>\n",
              "      <td>1462809600</td>\n",
              "      <td>2016-05-09 16:00:00</td>\n",
              "      <td>ETHUSD</td>\n",
              "      <td>9.99</td>\n",
              "      <td>9.99</td>\n",
              "      <td>9.79</td>\n",
              "      <td>9.83</td>\n",
              "      <td>62.379450</td>\n",
              "    </tr>\n",
              "    <tr>\n",
              "      <th>34494</th>\n",
              "      <td>1462806000</td>\n",
              "      <td>2016-05-09 15:00:00</td>\n",
              "      <td>ETHUSD</td>\n",
              "      <td>10.00</td>\n",
              "      <td>10.00</td>\n",
              "      <td>9.99</td>\n",
              "      <td>9.99</td>\n",
              "      <td>10.973567</td>\n",
              "    </tr>\n",
              "    <tr>\n",
              "      <th>34495</th>\n",
              "      <td>1462802400</td>\n",
              "      <td>2016-05-09 14:00:00</td>\n",
              "      <td>ETHUSD</td>\n",
              "      <td>9.55</td>\n",
              "      <td>10.00</td>\n",
              "      <td>9.55</td>\n",
              "      <td>10.00</td>\n",
              "      <td>235.774075</td>\n",
              "    </tr>\n",
              "    <tr>\n",
              "      <th>34496</th>\n",
              "      <td>1462798800</td>\n",
              "      <td>2016-05-09 13:00:00</td>\n",
              "      <td>ETHUSD</td>\n",
              "      <td>0.00</td>\n",
              "      <td>12.00</td>\n",
              "      <td>0.00</td>\n",
              "      <td>9.55</td>\n",
              "      <td>432.562115</td>\n",
              "    </tr>\n",
              "  </tbody>\n",
              "</table>\n",
              "<p>34497 rows × 8 columns</p>\n",
              "</div>"
            ],
            "text/plain": [
              "       Unix Timestamp                 Date  Symbol  ...     Low   Close       Volume\n",
              "0       1586995200000  2020-04-16 00:00:00  ETHUSD  ...  150.39  150.39   650.188125\n",
              "1       1586991600000  2020-04-15 23:00:00  ETHUSD  ...  151.39  152.94  4277.567299\n",
              "2       1586988000000  2020-04-15 22:00:00  ETHUSD  ...  155.32  155.81   106.337279\n",
              "3       1586984400000  2020-04-15 21:00:00  ETHUSD  ...  157.16  157.18    55.244131\n",
              "4       1586980800000  2020-04-15 20:00:00  ETHUSD  ...  156.87  158.04   144.262622\n",
              "...               ...                  ...     ...  ...     ...     ...          ...\n",
              "34492      1462813200  2016-05-09 17:00:00  ETHUSD  ...    9.48    9.49   329.553213\n",
              "34493      1462809600  2016-05-09 16:00:00  ETHUSD  ...    9.79    9.83    62.379450\n",
              "34494      1462806000  2016-05-09 15:00:00  ETHUSD  ...    9.99    9.99    10.973567\n",
              "34495      1462802400  2016-05-09 14:00:00  ETHUSD  ...    9.55   10.00   235.774075\n",
              "34496      1462798800  2016-05-09 13:00:00  ETHUSD  ...    0.00    9.55   432.562115\n",
              "\n",
              "[34497 rows x 8 columns]"
            ]
          },
          "metadata": {
            "tags": []
          },
          "execution_count": 3
        }
      ]
    },
    {
      "cell_type": "code",
      "metadata": {
        "colab": {
          "base_uri": "https://localhost:8080/",
          "height": 669
        },
        "id": "zE3Zez-Fs_pG",
        "outputId": "91c8c18e-58d0-4646-c535-216f3fe8b32a"
      },
      "source": [
        "projection=14\n",
        "df['prediction']=df[['Close']].shift(-projection)\n",
        "df.head(20)"
      ],
      "execution_count": null,
      "outputs": [
        {
          "output_type": "execute_result",
          "data": {
            "text/html": [
              "<div>\n",
              "<style scoped>\n",
              "    .dataframe tbody tr th:only-of-type {\n",
              "        vertical-align: middle;\n",
              "    }\n",
              "\n",
              "    .dataframe tbody tr th {\n",
              "        vertical-align: top;\n",
              "    }\n",
              "\n",
              "    .dataframe thead th {\n",
              "        text-align: right;\n",
              "    }\n",
              "</style>\n",
              "<table border=\"1\" class=\"dataframe\">\n",
              "  <thead>\n",
              "    <tr style=\"text-align: right;\">\n",
              "      <th></th>\n",
              "      <th>Unix Timestamp</th>\n",
              "      <th>Date</th>\n",
              "      <th>Symbol</th>\n",
              "      <th>Open</th>\n",
              "      <th>High</th>\n",
              "      <th>Low</th>\n",
              "      <th>Close</th>\n",
              "      <th>Volume</th>\n",
              "      <th>prediction</th>\n",
              "    </tr>\n",
              "  </thead>\n",
              "  <tbody>\n",
              "    <tr>\n",
              "      <th>0</th>\n",
              "      <td>1586995200000</td>\n",
              "      <td>2020-04-16 00:00:00</td>\n",
              "      <td>ETHUSD</td>\n",
              "      <td>152.94</td>\n",
              "      <td>152.94</td>\n",
              "      <td>150.39</td>\n",
              "      <td>150.39</td>\n",
              "      <td>650.188125</td>\n",
              "      <td>157.69</td>\n",
              "    </tr>\n",
              "    <tr>\n",
              "      <th>1</th>\n",
              "      <td>1586991600000</td>\n",
              "      <td>2020-04-15 23:00:00</td>\n",
              "      <td>ETHUSD</td>\n",
              "      <td>155.81</td>\n",
              "      <td>155.81</td>\n",
              "      <td>151.39</td>\n",
              "      <td>152.94</td>\n",
              "      <td>4277.567299</td>\n",
              "      <td>159.05</td>\n",
              "    </tr>\n",
              "    <tr>\n",
              "      <th>2</th>\n",
              "      <td>1586988000000</td>\n",
              "      <td>2020-04-15 22:00:00</td>\n",
              "      <td>ETHUSD</td>\n",
              "      <td>157.18</td>\n",
              "      <td>157.30</td>\n",
              "      <td>155.32</td>\n",
              "      <td>155.81</td>\n",
              "      <td>106.337279</td>\n",
              "      <td>158.77</td>\n",
              "    </tr>\n",
              "    <tr>\n",
              "      <th>3</th>\n",
              "      <td>1586984400000</td>\n",
              "      <td>2020-04-15 21:00:00</td>\n",
              "      <td>ETHUSD</td>\n",
              "      <td>158.04</td>\n",
              "      <td>158.31</td>\n",
              "      <td>157.16</td>\n",
              "      <td>157.18</td>\n",
              "      <td>55.244131</td>\n",
              "      <td>159.84</td>\n",
              "    </tr>\n",
              "    <tr>\n",
              "      <th>4</th>\n",
              "      <td>1586980800000</td>\n",
              "      <td>2020-04-15 20:00:00</td>\n",
              "      <td>ETHUSD</td>\n",
              "      <td>157.10</td>\n",
              "      <td>158.10</td>\n",
              "      <td>156.87</td>\n",
              "      <td>158.04</td>\n",
              "      <td>144.262622</td>\n",
              "      <td>160.21</td>\n",
              "    </tr>\n",
              "    <tr>\n",
              "      <th>5</th>\n",
              "      <td>1586977200000</td>\n",
              "      <td>2020-04-15 19:00:00</td>\n",
              "      <td>ETHUSD</td>\n",
              "      <td>157.78</td>\n",
              "      <td>157.84</td>\n",
              "      <td>157.10</td>\n",
              "      <td>157.10</td>\n",
              "      <td>329.356201</td>\n",
              "      <td>160.91</td>\n",
              "    </tr>\n",
              "    <tr>\n",
              "      <th>6</th>\n",
              "      <td>1586973600000</td>\n",
              "      <td>2020-04-15 18:00:00</td>\n",
              "      <td>ETHUSD</td>\n",
              "      <td>157.48</td>\n",
              "      <td>158.20</td>\n",
              "      <td>157.48</td>\n",
              "      <td>157.78</td>\n",
              "      <td>520.137463</td>\n",
              "      <td>159.97</td>\n",
              "    </tr>\n",
              "    <tr>\n",
              "      <th>7</th>\n",
              "      <td>1586970000000</td>\n",
              "      <td>2020-04-15 17:00:00</td>\n",
              "      <td>ETHUSD</td>\n",
              "      <td>157.12</td>\n",
              "      <td>157.78</td>\n",
              "      <td>156.90</td>\n",
              "      <td>157.48</td>\n",
              "      <td>156.552221</td>\n",
              "      <td>160.62</td>\n",
              "    </tr>\n",
              "    <tr>\n",
              "      <th>8</th>\n",
              "      <td>1586966400000</td>\n",
              "      <td>2020-04-15 16:00:00</td>\n",
              "      <td>ETHUSD</td>\n",
              "      <td>155.81</td>\n",
              "      <td>157.52</td>\n",
              "      <td>155.74</td>\n",
              "      <td>157.12</td>\n",
              "      <td>430.083035</td>\n",
              "      <td>160.27</td>\n",
              "    </tr>\n",
              "    <tr>\n",
              "      <th>9</th>\n",
              "      <td>1586962800000</td>\n",
              "      <td>2020-04-15 15:00:00</td>\n",
              "      <td>ETHUSD</td>\n",
              "      <td>157.12</td>\n",
              "      <td>157.15</td>\n",
              "      <td>155.81</td>\n",
              "      <td>155.81</td>\n",
              "      <td>303.839541</td>\n",
              "      <td>158.50</td>\n",
              "    </tr>\n",
              "    <tr>\n",
              "      <th>10</th>\n",
              "      <td>1586959200000</td>\n",
              "      <td>2020-04-15 14:00:00</td>\n",
              "      <td>ETHUSD</td>\n",
              "      <td>156.57</td>\n",
              "      <td>158.09</td>\n",
              "      <td>156.57</td>\n",
              "      <td>157.12</td>\n",
              "      <td>747.870220</td>\n",
              "      <td>157.12</td>\n",
              "    </tr>\n",
              "    <tr>\n",
              "      <th>11</th>\n",
              "      <td>1586955600000</td>\n",
              "      <td>2020-04-15 13:00:00</td>\n",
              "      <td>ETHUSD</td>\n",
              "      <td>156.46</td>\n",
              "      <td>157.67</td>\n",
              "      <td>155.50</td>\n",
              "      <td>156.57</td>\n",
              "      <td>320.060172</td>\n",
              "      <td>158.61</td>\n",
              "    </tr>\n",
              "    <tr>\n",
              "      <th>12</th>\n",
              "      <td>1586952000000</td>\n",
              "      <td>2020-04-15 12:00:00</td>\n",
              "      <td>ETHUSD</td>\n",
              "      <td>157.45</td>\n",
              "      <td>157.76</td>\n",
              "      <td>155.58</td>\n",
              "      <td>156.46</td>\n",
              "      <td>1922.313877</td>\n",
              "      <td>159.92</td>\n",
              "    </tr>\n",
              "    <tr>\n",
              "      <th>13</th>\n",
              "      <td>1586948400000</td>\n",
              "      <td>2020-04-15 11:00:00</td>\n",
              "      <td>ETHUSD</td>\n",
              "      <td>157.69</td>\n",
              "      <td>158.26</td>\n",
              "      <td>157.09</td>\n",
              "      <td>157.45</td>\n",
              "      <td>993.970288</td>\n",
              "      <td>159.12</td>\n",
              "    </tr>\n",
              "    <tr>\n",
              "      <th>14</th>\n",
              "      <td>1586944800000</td>\n",
              "      <td>2020-04-15 10:00:00</td>\n",
              "      <td>ETHUSD</td>\n",
              "      <td>159.05</td>\n",
              "      <td>159.76</td>\n",
              "      <td>157.25</td>\n",
              "      <td>157.69</td>\n",
              "      <td>866.472222</td>\n",
              "      <td>159.36</td>\n",
              "    </tr>\n",
              "    <tr>\n",
              "      <th>15</th>\n",
              "      <td>1586941200000</td>\n",
              "      <td>2020-04-15 09:00:00</td>\n",
              "      <td>ETHUSD</td>\n",
              "      <td>158.77</td>\n",
              "      <td>159.41</td>\n",
              "      <td>157.88</td>\n",
              "      <td>159.05</td>\n",
              "      <td>108.160041</td>\n",
              "      <td>160.70</td>\n",
              "    </tr>\n",
              "    <tr>\n",
              "      <th>16</th>\n",
              "      <td>1586937600000</td>\n",
              "      <td>2020-04-15 08:00:00</td>\n",
              "      <td>ETHUSD</td>\n",
              "      <td>159.84</td>\n",
              "      <td>160.02</td>\n",
              "      <td>158.44</td>\n",
              "      <td>158.77</td>\n",
              "      <td>96.255414</td>\n",
              "      <td>160.63</td>\n",
              "    </tr>\n",
              "    <tr>\n",
              "      <th>17</th>\n",
              "      <td>1586934000000</td>\n",
              "      <td>2020-04-15 07:00:00</td>\n",
              "      <td>ETHUSD</td>\n",
              "      <td>160.21</td>\n",
              "      <td>160.21</td>\n",
              "      <td>159.56</td>\n",
              "      <td>159.84</td>\n",
              "      <td>57.714281</td>\n",
              "      <td>159.84</td>\n",
              "    </tr>\n",
              "    <tr>\n",
              "      <th>18</th>\n",
              "      <td>1586930400000</td>\n",
              "      <td>2020-04-15 06:00:00</td>\n",
              "      <td>ETHUSD</td>\n",
              "      <td>160.91</td>\n",
              "      <td>161.52</td>\n",
              "      <td>160.07</td>\n",
              "      <td>160.21</td>\n",
              "      <td>113.101882</td>\n",
              "      <td>161.72</td>\n",
              "    </tr>\n",
              "    <tr>\n",
              "      <th>19</th>\n",
              "      <td>1586926800000</td>\n",
              "      <td>2020-04-15 05:00:00</td>\n",
              "      <td>ETHUSD</td>\n",
              "      <td>159.97</td>\n",
              "      <td>160.91</td>\n",
              "      <td>159.89</td>\n",
              "      <td>160.91</td>\n",
              "      <td>72.618334</td>\n",
              "      <td>160.17</td>\n",
              "    </tr>\n",
              "  </tbody>\n",
              "</table>\n",
              "</div>"
            ],
            "text/plain": [
              "    Unix Timestamp                 Date  ...       Volume  prediction\n",
              "0    1586995200000  2020-04-16 00:00:00  ...   650.188125      157.69\n",
              "1    1586991600000  2020-04-15 23:00:00  ...  4277.567299      159.05\n",
              "2    1586988000000  2020-04-15 22:00:00  ...   106.337279      158.77\n",
              "3    1586984400000  2020-04-15 21:00:00  ...    55.244131      159.84\n",
              "4    1586980800000  2020-04-15 20:00:00  ...   144.262622      160.21\n",
              "5    1586977200000  2020-04-15 19:00:00  ...   329.356201      160.91\n",
              "6    1586973600000  2020-04-15 18:00:00  ...   520.137463      159.97\n",
              "7    1586970000000  2020-04-15 17:00:00  ...   156.552221      160.62\n",
              "8    1586966400000  2020-04-15 16:00:00  ...   430.083035      160.27\n",
              "9    1586962800000  2020-04-15 15:00:00  ...   303.839541      158.50\n",
              "10   1586959200000  2020-04-15 14:00:00  ...   747.870220      157.12\n",
              "11   1586955600000  2020-04-15 13:00:00  ...   320.060172      158.61\n",
              "12   1586952000000  2020-04-15 12:00:00  ...  1922.313877      159.92\n",
              "13   1586948400000  2020-04-15 11:00:00  ...   993.970288      159.12\n",
              "14   1586944800000  2020-04-15 10:00:00  ...   866.472222      159.36\n",
              "15   1586941200000  2020-04-15 09:00:00  ...   108.160041      160.70\n",
              "16   1586937600000  2020-04-15 08:00:00  ...    96.255414      160.63\n",
              "17   1586934000000  2020-04-15 07:00:00  ...    57.714281      159.84\n",
              "18   1586930400000  2020-04-15 06:00:00  ...   113.101882      161.72\n",
              "19   1586926800000  2020-04-15 05:00:00  ...    72.618334      160.17\n",
              "\n",
              "[20 rows x 9 columns]"
            ]
          },
          "metadata": {
            "tags": []
          },
          "execution_count": 10
        }
      ]
    },
    {
      "cell_type": "code",
      "metadata": {
        "colab": {
          "base_uri": "https://localhost:8080/",
          "height": 204
        },
        "id": "oeULXB7HyJqA",
        "outputId": "e3db2e3d-2361-49c3-a53a-7d318c5db96a"
      },
      "source": [
        "df.tail()"
      ],
      "execution_count": null,
      "outputs": [
        {
          "output_type": "execute_result",
          "data": {
            "text/html": [
              "<div>\n",
              "<style scoped>\n",
              "    .dataframe tbody tr th:only-of-type {\n",
              "        vertical-align: middle;\n",
              "    }\n",
              "\n",
              "    .dataframe tbody tr th {\n",
              "        vertical-align: top;\n",
              "    }\n",
              "\n",
              "    .dataframe thead th {\n",
              "        text-align: right;\n",
              "    }\n",
              "</style>\n",
              "<table border=\"1\" class=\"dataframe\">\n",
              "  <thead>\n",
              "    <tr style=\"text-align: right;\">\n",
              "      <th></th>\n",
              "      <th>Unix Timestamp</th>\n",
              "      <th>Date</th>\n",
              "      <th>Symbol</th>\n",
              "      <th>Open</th>\n",
              "      <th>High</th>\n",
              "      <th>Low</th>\n",
              "      <th>Close</th>\n",
              "      <th>Volume</th>\n",
              "      <th>prediction</th>\n",
              "    </tr>\n",
              "  </thead>\n",
              "  <tbody>\n",
              "    <tr>\n",
              "      <th>34492</th>\n",
              "      <td>1462813200</td>\n",
              "      <td>2016-05-09 17:00:00</td>\n",
              "      <td>ETHUSD</td>\n",
              "      <td>9.83</td>\n",
              "      <td>9.83</td>\n",
              "      <td>9.48</td>\n",
              "      <td>9.49</td>\n",
              "      <td>329.553213</td>\n",
              "      <td>NaN</td>\n",
              "    </tr>\n",
              "    <tr>\n",
              "      <th>34493</th>\n",
              "      <td>1462809600</td>\n",
              "      <td>2016-05-09 16:00:00</td>\n",
              "      <td>ETHUSD</td>\n",
              "      <td>9.99</td>\n",
              "      <td>9.99</td>\n",
              "      <td>9.79</td>\n",
              "      <td>9.83</td>\n",
              "      <td>62.379450</td>\n",
              "      <td>NaN</td>\n",
              "    </tr>\n",
              "    <tr>\n",
              "      <th>34494</th>\n",
              "      <td>1462806000</td>\n",
              "      <td>2016-05-09 15:00:00</td>\n",
              "      <td>ETHUSD</td>\n",
              "      <td>10.00</td>\n",
              "      <td>10.00</td>\n",
              "      <td>9.99</td>\n",
              "      <td>9.99</td>\n",
              "      <td>10.973567</td>\n",
              "      <td>NaN</td>\n",
              "    </tr>\n",
              "    <tr>\n",
              "      <th>34495</th>\n",
              "      <td>1462802400</td>\n",
              "      <td>2016-05-09 14:00:00</td>\n",
              "      <td>ETHUSD</td>\n",
              "      <td>9.55</td>\n",
              "      <td>10.00</td>\n",
              "      <td>9.55</td>\n",
              "      <td>10.00</td>\n",
              "      <td>235.774075</td>\n",
              "      <td>NaN</td>\n",
              "    </tr>\n",
              "    <tr>\n",
              "      <th>34496</th>\n",
              "      <td>1462798800</td>\n",
              "      <td>2016-05-09 13:00:00</td>\n",
              "      <td>ETHUSD</td>\n",
              "      <td>0.00</td>\n",
              "      <td>12.00</td>\n",
              "      <td>0.00</td>\n",
              "      <td>9.55</td>\n",
              "      <td>432.562115</td>\n",
              "      <td>NaN</td>\n",
              "    </tr>\n",
              "  </tbody>\n",
              "</table>\n",
              "</div>"
            ],
            "text/plain": [
              "       Unix Timestamp                 Date  ...      Volume  prediction\n",
              "34492      1462813200  2016-05-09 17:00:00  ...  329.553213         NaN\n",
              "34493      1462809600  2016-05-09 16:00:00  ...   62.379450         NaN\n",
              "34494      1462806000  2016-05-09 15:00:00  ...   10.973567         NaN\n",
              "34495      1462802400  2016-05-09 14:00:00  ...  235.774075         NaN\n",
              "34496      1462798800  2016-05-09 13:00:00  ...  432.562115         NaN\n",
              "\n",
              "[5 rows x 9 columns]"
            ]
          },
          "metadata": {
            "tags": []
          },
          "execution_count": 14
        }
      ]
    },
    {
      "cell_type": "code",
      "metadata": {
        "colab": {
          "base_uri": "https://localhost:8080/",
          "height": 358
        },
        "id": "A8JBXlzU0IGM",
        "outputId": "6e9c3894-7b2e-4d87-b84f-6e229f679399"
      },
      "source": [
        "sns.heatmap(df.corr(),annot=True,cmap='coolwarm')"
      ],
      "execution_count": null,
      "outputs": [
        {
          "output_type": "execute_result",
          "data": {
            "text/plain": [
              "<matplotlib.axes._subplots.AxesSubplot at 0x7fa6350575d0>"
            ]
          },
          "metadata": {
            "tags": []
          },
          "execution_count": 18
        },
        {
          "output_type": "display_data",
          "data": {
            "image/png": "[encoded data removed]",
            "text/plain": [
              "<Figure size 432x288 with 2 Axes>"
            ]
          },
          "metadata": {
            "tags": [],
            "needs_background": "light"
          }
        }
      ]
    },
    {
      "cell_type": "code",
      "metadata": {
        "colab": {
          "base_uri": "https://localhost:8080/"
        },
        "id": "nmkfv70w1RyX",
        "outputId": "486cadb5-66bb-40b6-b22b-580e4eb9e068"
      },
      "source": [
        "x=np.array(df[['Close']])\n",
        "x=x[:-projection]\n",
        "print(x)"
      ],
      "execution_count": null,
      "outputs": [
        {
          "output_type": "stream",
          "text": [
            "[[150.39]\n",
            " [152.94]\n",
            " [155.81]\n",
            " ...\n",
            " [  9.36]\n",
            " [  9.36]\n",
            " [  9.36]]\n"
          ],
          "name": "stdout"
        }
      ]
    },
    {
      "cell_type": "code",
      "metadata": {
        "colab": {
          "base_uri": "https://localhost:8080/"
        },
        "id": "WtbXJWYG1zdm",
        "outputId": "52ad718e-64b9-4fff-a94e-e5ed355b2845"
      },
      "source": [
        "y=df['prediction'].values\n",
        "y=y[:-projection]\n",
        "print(y)"
      ],
      "execution_count": null,
      "outputs": [
        {
          "output_type": "stream",
          "text": [
            "[157.69 159.05 158.77 ...   9.99  10.     9.55]\n"
          ],
          "name": "stdout"
        }
      ]
    },
    {
      "cell_type": "code",
      "metadata": {
        "id": "4RoVfQQ21-FH"
      },
      "source": [
        "x_train,x_test,y_train,y_test=train_test_split(x,y,test_size=.20)"
      ],
      "execution_count": null,
      "outputs": []
    },
    {
      "cell_type": "code",
      "metadata": {
        "colab": {
          "base_uri": "https://localhost:8080/",
          "height": 295
        },
        "id": "tluJFngE4nmk",
        "outputId": "49cbbd4e-4cd2-4eb5-bf6c-5c6aeb96b174"
      },
      "source": [
        "plt.scatter(x_test,y_test,color=\"red\")\n",
        "plt.title(\"Etherium Price vs Predicted Price after 14 days (Traing set)\")\n",
        "plt.xlabel(\"Etherium Price\")\n",
        "plt.ylabel(\"prediction Price\")\n",
        "plt.show()"
      ],
      "execution_count": null,
      "outputs": [
        {
          "output_type": "display_data",
          "data": {
            "image/png": "[encoded data removed]",
            "text/plain": [
              "<Figure size 432x288 with 1 Axes>"
            ]
          },
          "metadata": {
            "tags": [],
            "needs_background": "light"
          }
        }
      ]
    },
    {
      "cell_type": "code",
      "metadata": {
        "colab": {
          "base_uri": "https://localhost:8080/"
        },
        "id": "4CZt2r5t55Bl",
        "outputId": "720be917-2106-4b2c-c3c4-4833ce0bb841"
      },
      "source": [
        "linreg=LinearRegression()\n",
        "linreg.fit(x_train,y_train)"
      ],
      "execution_count": null,
      "outputs": [
        {
          "output_type": "execute_result",
          "data": {
            "text/plain": [
              "LinearRegression(copy_X=True, fit_intercept=True, n_jobs=None, normalize=False)"
            ]
          },
          "metadata": {
            "tags": []
          },
          "execution_count": 25
        }
      ]
    },
    {
      "cell_type": "code",
      "metadata": {
        "colab": {
          "base_uri": "https://localhost:8080/"
        },
        "id": "OjPOjPSY5k81",
        "outputId": "492a0a76-0407-4cd0-cd18-85752f965f6c"
      },
      "source": [
        "linreg_confidense=linreg.score(x_test,y_test)\n",
        "print(\"Linear regression confidence:\",linreg_confidense)"
      ],
      "execution_count": null,
      "outputs": [
        {
          "output_type": "stream",
          "text": [
            "Linear regression confidence: 0.9949101679548629\n"
          ],
          "name": "stdout"
        }
      ]
    },
    {
      "cell_type": "code",
      "metadata": {
        "colab": {
          "base_uri": "https://localhost:8080/"
        },
        "id": "vf6lIprT9NZF",
        "outputId": "97398031-caf3-4a49-cd68-bbbb11527d09"
      },
      "source": [
        "linreg_prediction=linreg.predict(x_test)\n",
        "print(linreg_prediction)"
      ],
      "execution_count": null,
      "outputs": [
        {
          "output_type": "stream",
          "text": [
            "[139.57839096  88.15703316 264.52151944 ...  89.91230061 123.03300062\n",
            " 193.91189702]\n"
          ],
          "name": "stdout"
        }
      ]
    },
    {
      "cell_type": "code",
      "metadata": {
        "colab": {
          "base_uri": "https://localhost:8080/"
        },
        "id": "l-IEEWZm-Iy2",
        "outputId": "75c37f0a-a86a-44be-d0c3-44b76be3bc3f"
      },
      "source": [
        "y_test"
      ],
      "execution_count": null,
      "outputs": [
        {
          "output_type": "execute_result",
          "data": {
            "text/plain": [
              "array([139.26,  88.03, 260.04, ...,  86.97, 126.43, 187.55])"
            ]
          },
          "metadata": {
            "tags": []
          },
          "execution_count": 29
        }
      ]
    },
    {
      "cell_type": "code",
      "metadata": {
        "colab": {
          "base_uri": "https://localhost:8080/",
          "height": 295
        },
        "id": "WG9xB1gV-xWz",
        "outputId": "966a877e-f93b-471a-a652-1998d2cbf4bc"
      },
      "source": [
        "plt.scatter(x_test, y_test, color = \"red\")\n",
        "plt.plot(x_train, linreg.predict(x_train), color = \"green\")\n",
        "plt.title(\"Etherium price vs Predicted Price after 14 days (Training set)\")\n",
        "plt.xlabel(\"Etherium Price\")\n",
        "plt.ylabel(\"Predicted Price\")\n",
        "plt.show()"
      ],
      "execution_count": null,
      "outputs": [
        {
          "output_type": "display_data",
          "data": {
            "image/png": "[encoded data removed]",
            "text/plain": [
              "<Figure size 432x288 with 1 Axes>"
            ]
          },
          "metadata": {
            "tags": [],
            "needs_background": "light"
          }
        }
      ]
    },
    {
      "cell_type": "code",
      "metadata": {
        "id": "ew7sKAn6-xZx"
      },
      "source": [
        "import pickle\n",
        "filename='dataset.csv'\n",
        "pickle.dump(linreg,open(filename,'wb'))"
      ],
      "execution_count": null,
      "outputs": []
    },
    {
      "cell_type": "code",
      "metadata": {
        "colab": {
          "base_uri": "https://localhost:8080/"
        },
        "id": "X-6PCKhCAL4A",
        "outputId": "557120e6-62f5-47f9-dd77-49fb1b9bb341"
      },
      "source": [
        "load_model=pickle.load(open(filename,'rb'))\n",
        "result=load_model.score(x_test,y_test)\n",
        "print(result)"
      ],
      "execution_count": null,
      "outputs": [
        {
          "output_type": "stream",
          "text": [
            "0.9949101679548629\n"
          ],
          "name": "stdout"
        }
      ]
    },
    {
      "cell_type": "code",
      "metadata": {
        "colab": {
          "base_uri": "https://localhost:8080/"
        },
        "id": "IDcFC6-pApTY",
        "outputId": "18e2efd5-d276-4c8f-ea00-d921dc1f2d17"
      },
      "source": [
        "load_model.predict(x_test)"
      ],
      "execution_count": null,
      "outputs": [
        {
          "output_type": "execute_result",
          "data": {
            "text/plain": [
              "array([139.57839096,  88.15703316, 264.52151944, ...,  89.91230061,\n",
              "       123.03300062, 193.91189702])"
            ]
          },
          "metadata": {
            "tags": []
          },
          "execution_count": 39
        }
      ]
    }
  ]
}